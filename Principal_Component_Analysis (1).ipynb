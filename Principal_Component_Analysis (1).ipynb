{
  "nbformat": 4,
  "nbformat_minor": 0,
  "metadata": {
    "colab": {
      "name": "Principal Component Analysis.ipynb",
      "provenance": [],
      "collapsed_sections": []
    },
    "kernelspec": {
      "name": "python3",
      "display_name": "Python 3"
    },
    "language_info": {
      "name": "python"
    }
  },
  "cells": [
    {
      "cell_type": "markdown",
      "source": [
        "## **PRINCIPAL COMPONENT ANALYSIS**\n",
        "22.05.23"
      ],
      "metadata": {
        "id": "PmtJOYp9v9Zl"
      }
    },
    {
      "cell_type": "markdown",
      "source": [
        "We will use the MNIST digits dataset, which comes pre-installed in sklearn. This dataset has 28x28 pixel images of handwritten digits 0-9. Your task is to classify these to determine which digits they are."
      ],
      "metadata": {
        "id": "d6BXjubVv58L"
      }
    },
    {
      "cell_type": "code",
      "execution_count": null,
      "metadata": {
        "id": "-ffz7a_JvRH3",
        "colab": {
          "base_uri": "https://localhost:8080/"
        },
        "outputId": "a119036d-e9bd-4b4a-f451-97c7e961c077"
      },
      "outputs": [
        {
          "output_type": "stream",
          "name": "stdout",
          "text": [
            "Downloading data from https://storage.googleapis.com/tensorflow/tf-keras-datasets/mnist.npz\n",
            "11493376/11490434 [==============================] - 0s 0us/step\n",
            "11501568/11490434 [==============================] - 0s 0us/step\n"
          ]
        }
      ],
      "source": [
        "# Loading the MNIST dataset:\n",
        "\n",
        "from keras.datasets import mnist\n",
        "\n",
        "(X_train, y_train), (X_test, y_test) = mnist.load_data()\n",
        "\n",
        "X_train = X_train.reshape(X_train.shape[0],-1)\n",
        "X_test = X_test.reshape(X_test.shape[0], -1)"
      ]
    },
    {
      "cell_type": "code",
      "source": [
        "y_train.shape"
      ],
      "metadata": {
        "colab": {
          "base_uri": "https://localhost:8080/"
        },
        "id": "26xJNJeYbnkP",
        "outputId": "fa09bc98-70d9-4798-da3d-5d0925be611a"
      },
      "execution_count": null,
      "outputs": [
        {
          "output_type": "execute_result",
          "data": {
            "text/plain": [
              "(60000,)"
            ]
          },
          "metadata": {},
          "execution_count": 2
        }
      ]
    },
    {
      "cell_type": "markdown",
      "source": [
        "### **DATA PREPARATION**"
      ],
      "metadata": {
        "id": "8ckragnTxCpc"
      }
    },
    {
      "cell_type": "code",
      "source": [
        "import numpy as np\n",
        "import pandas as pd\n",
        "import matplotlib.pyplot as plt\n",
        "from sklearn.preprocessing import LabelEncoder, StandardScaler\n",
        "from sklearn.decomposition import PCA"
      ],
      "metadata": {
        "id": "KfWf2Bi4wwcL"
      },
      "execution_count": null,
      "outputs": []
    },
    {
      "cell_type": "code",
      "source": [
        "# Scaler designation:\n",
        "scaler = StandardScaler()"
      ],
      "metadata": {
        "id": "r6BhKMl2xNJu"
      },
      "execution_count": null,
      "outputs": []
    },
    {
      "cell_type": "code",
      "source": [
        "from sklearn import preprocessing\n",
        "from sklearn.pipeline import make_pipeline\n",
        "\n",
        "# Fit Principal Component Analysis (PCA):\n",
        "pca = PCA(n_components = .95)\n",
        "\n",
        "# Initial Pipeline :\n",
        "preprocessing = make_pipeline(scaler, pca)"
      ],
      "metadata": {
        "id": "MziN4ZHGy16r"
      },
      "execution_count": null,
      "outputs": []
    },
    {
      "cell_type": "code",
      "source": [
        "# Fit and transform on training data:\n",
        "\n",
        "preprocessing.fit_transform(X_train)"
      ],
      "metadata": {
        "colab": {
          "base_uri": "https://localhost:8080/"
        },
        "id": "zcJ8yg1V_3Au",
        "outputId": "f370669c-1e93-427c-87cb-da163b428384"
      },
      "execution_count": null,
      "outputs": [
        {
          "output_type": "execute_result",
          "data": {
            "text/plain": [
              "array([[-9.22158806e-01, -4.81479035e+00,  6.75598364e-02, ...,\n",
              "         6.48901824e-01, -5.58761091e-01,  7.00234248e-01],\n",
              "       [ 8.70897698e+00, -7.75440302e+00, -3.44791044e+00, ...,\n",
              "         3.84235441e-01,  1.21430123e-02,  5.67996671e-02],\n",
              "       [ 2.32838932e+00,  9.43133817e+00, -6.18411405e+00, ...,\n",
              "         7.15532228e-01, -5.28732321e-01, -1.57928342e+00],\n",
              "       ...,\n",
              "       [-3.77721201e+00, -3.23056436e+00, -3.80619883e+00, ...,\n",
              "        -2.30269745e-01,  5.69853658e-01,  6.13243214e-01],\n",
              "       [ 1.72236917e+00, -4.94812525e+00,  6.95122764e-03, ...,\n",
              "         1.04435864e-02,  3.95711616e-01,  1.71289370e-01],\n",
              "       [-1.42725062e+00, -6.17538558e+00, -2.96768709e+00, ...,\n",
              "        -1.22635613e+00, -4.48097640e-01, -3.93178000e-01]])"
            ]
          },
          "metadata": {},
          "execution_count": 6
        }
      ]
    },
    {
      "cell_type": "markdown",
      "source": [
        "### **KNN MODEL WITH PCA TRANSFORMED DATA**"
      ],
      "metadata": {
        "id": "gRop55PxXDqs"
      }
    },
    {
      "cell_type": "code",
      "source": [
        "from sklearn.neighbors import KNeighborsClassifier\n",
        "\n",
        "\n",
        "# Instantiate Model: \n",
        "KNpca = KNeighborsClassifier(n_neighbors=6)\n",
        "\n",
        "# Second Pipeline for preprocessed data and Model:\n",
        "KNpca_pl = make_pipeline(preprocessing, KNpca)\n",
        "\n",
        "# Fit of the pipeline on the training data:\n",
        "KNpca_pl.fit(X_train, y_train)"
      ],
      "metadata": {
        "colab": {
          "base_uri": "https://localhost:8080/"
        },
        "id": "wBE_ky0G1jzB",
        "outputId": "aa517db2-29e1-45e7-f2c3-15d522f2ec5c"
      },
      "execution_count": null,
      "outputs": [
        {
          "output_type": "execute_result",
          "data": {
            "text/plain": [
              "Pipeline(steps=[('pipeline',\n",
              "                 Pipeline(steps=[('standardscaler', StandardScaler()),\n",
              "                                 ('pca', PCA(n_components=0.95))])),\n",
              "                ('kneighborsclassifier', KNeighborsClassifier(n_neighbors=6))])"
            ]
          },
          "metadata": {},
          "execution_count": 7
        }
      ]
    },
    {
      "cell_type": "code",
      "source": [
        "# Test Predictions for PCA model:\n",
        "%%time\n",
        "pca_test_pred = KNpca_pl.predict(X_test)"
      ],
      "metadata": {
        "colab": {
          "base_uri": "https://localhost:8080/"
        },
        "id": "02YNINq5Zd6C",
        "outputId": "43209595-d8a3-4a99-ff08-72c207b944f4"
      },
      "execution_count": null,
      "outputs": [
        {
          "output_type": "stream",
          "name": "stdout",
          "text": [
            "CPU times: user 37.2 s, sys: 866 ms, total: 38.1 s\n",
            "Wall time: 25.5 s\n"
          ]
        }
      ]
    },
    {
      "cell_type": "markdown",
      "source": [
        "### **KNN MODEL WITHOUT PCA TRANSFORMED DATA**"
      ],
      "metadata": {
        "id": "andVW9Tvc2zA"
      }
    },
    {
      "cell_type": "code",
      "source": [
        "# Preprocessing without PCA\n",
        "\n",
        "# Scaler designation:\n",
        "scaler = StandardScaler()\n",
        "\n",
        "# Fit and transform on training data:\n",
        "\n",
        "scaledx = scaler.fit_transform(X_train)"
      ],
      "metadata": {
        "id": "Ec4t9q2_knLl"
      },
      "execution_count": null,
      "outputs": []
    },
    {
      "cell_type": "code",
      "source": [
        "# Model Instantiation:\n",
        "KN = KNeighborsClassifier(n_neighbors= 6)\n",
        "\n",
        "# Fit on training data:\n",
        "KN.fit(scaledx, y_train)"
      ],
      "metadata": {
        "colab": {
          "base_uri": "https://localhost:8080/"
        },
        "id": "6RHGtpcHciQT",
        "outputId": "9a6da726-45cc-4f3e-ca30-2ca899ee71ee"
      },
      "execution_count": null,
      "outputs": [
        {
          "output_type": "execute_result",
          "data": {
            "text/plain": [
              "KNeighborsClassifier(n_neighbors=6)"
            ]
          },
          "metadata": {},
          "execution_count": 18
        }
      ]
    },
    {
      "cell_type": "code",
      "source": [
        "# Test Predictions for non PCA model:\n",
        "%%time\n",
        "test_pred2 = KN.predict(X_test)"
      ],
      "metadata": {
        "colab": {
          "base_uri": "https://localhost:8080/"
        },
        "id": "zGz6khyQdiLV",
        "outputId": "191ab085-7bc0-4715-b1ab-eb02e33fb64f"
      },
      "execution_count": null,
      "outputs": [
        {
          "output_type": "stream",
          "name": "stdout",
          "text": [
            "CPU times: user 1min 7s, sys: 1.21 s, total: 1min 8s\n",
            "Wall time: 40.8 s\n"
          ]
        }
      ]
    },
    {
      "cell_type": "markdown",
      "source": [
        "### **MODEL RUNTIME AND PERFORMANCE COMPARISON**"
      ],
      "metadata": {
        "id": "sSneZ7S1e20V"
      }
    },
    {
      "cell_type": "code",
      "source": [
        "print(\"The total runtime for the PCA model was 38.1 seconds\")\n",
        "print(\"The total runtime for the non PCA model was 1 minute 8 seconds\")"
      ],
      "metadata": {
        "colab": {
          "base_uri": "https://localhost:8080/"
        },
        "id": "p_GBkYcDfE4g",
        "outputId": "3abab416-d7a7-41a5-e124-35da609e2ebc"
      },
      "execution_count": null,
      "outputs": [
        {
          "output_type": "stream",
          "name": "stdout",
          "text": [
            "The total runtime for the PCA model was 38.1 seconds\n",
            "The total runtime for the non PCA model was 1 minute 8 seconds\n"
          ]
        }
      ]
    },
    {
      "cell_type": "code",
      "source": [
        "from sklearn.metrics import classification_report\n",
        "\n",
        "pca_test_scores = classification_report(y_test, pca_test_pred)\n",
        "test_scores = classification_report(y_test, test_pred2)\n",
        "\n",
        "print(f'Test Evaluation for PCA Model:\\n {pca_test_scores}')\n",
        "print('\\n')\n",
        "print(f'Test Evaluation for non PCA Model:\\n {test_scores}')"
      ],
      "metadata": {
        "colab": {
          "base_uri": "https://localhost:8080/"
        },
        "id": "xXH0Swlr72rB",
        "outputId": "5ecc65a9-1b58-4ef1-9829-0aa1cedb1e14"
      },
      "execution_count": null,
      "outputs": [
        {
          "output_type": "stream",
          "name": "stdout",
          "text": [
            "Test Evaluation for PCA Model:\n",
            "               precision    recall  f1-score   support\n",
            "\n",
            "           0       0.95      0.99      0.97       980\n",
            "           1       0.96      0.99      0.97      1135\n",
            "           2       0.96      0.94      0.95      1032\n",
            "           3       0.92      0.96      0.94      1010\n",
            "           4       0.95      0.95      0.95       982\n",
            "           5       0.93      0.92      0.93       892\n",
            "           6       0.96      0.97      0.97       958\n",
            "           7       0.94      0.93      0.94      1028\n",
            "           8       0.97      0.91      0.94       974\n",
            "           9       0.93      0.91      0.92      1009\n",
            "\n",
            "    accuracy                           0.95     10000\n",
            "   macro avg       0.95      0.95      0.95     10000\n",
            "weighted avg       0.95      0.95      0.95     10000\n",
            "\n",
            "\n",
            "\n",
            "Test Evaluation for non PCA Model:\n",
            "               precision    recall  f1-score   support\n",
            "\n",
            "           0       0.49      0.99      0.66       980\n",
            "           1       1.00      0.90      0.95      1135\n",
            "           2       0.94      0.86      0.90      1032\n",
            "           3       0.95      0.73      0.83      1010\n",
            "           4       0.99      0.57      0.72       982\n",
            "           5       0.97      0.61      0.75       892\n",
            "           6       0.96      0.87      0.91       958\n",
            "           7       0.96      0.84      0.90      1028\n",
            "           8       0.56      0.88      0.69       974\n",
            "           9       0.86      0.74      0.80      1009\n",
            "\n",
            "    accuracy                           0.80     10000\n",
            "   macro avg       0.87      0.80      0.81     10000\n",
            "weighted avg       0.87      0.80      0.81     10000\n",
            "\n"
          ]
        }
      ]
    },
    {
      "cell_type": "markdown",
      "source": [
        "The PCA model performed better than the non PCA model across all metrics. "
      ],
      "metadata": {
        "id": "2B6PPUtk9Vbl"
      }
    }
  ]
}